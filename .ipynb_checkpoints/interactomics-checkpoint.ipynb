{
 "cells": [
  {
   "cell_type": "code",
   "execution_count": 6,
   "id": "unexpected-philip",
   "metadata": {},
   "outputs": [],
   "source": [
    "import requests\n",
    "url = \"https://mmsb.cnrs.fr/equipe/mobi/\"\n",
    "\n",
    "try:\n",
    "    httpReq = requests.get(url, proxies=None)\n",
    "except NameError:\n",
    "    httpReq = requests.get(url)\n",
    "ans = httpReq.text"
   ]
  },
  {
   "cell_type": "code",
   "execution_count": null,
   "id": "african-excellence",
   "metadata": {},
   "outputs": [],
   "source": []
  },
  {
   "cell_type": "code",
   "execution_count": null,
   "id": "knowing-progress",
   "metadata": {},
   "outputs": [],
   "source": []
  }
 ],
 "metadata": {
  "kernelspec": {
   "display_name": "madp-tp1",
   "language": "python",
   "name": "madp-tp1"
  },
  "language_info": {
   "codemirror_mode": {
    "name": "ipython",
    "version": 3
   },
   "file_extension": ".py",
   "mimetype": "text/x-python",
   "name": "python",
   "nbconvert_exporter": "python",
   "pygments_lexer": "ipython3",
   "version": "3.8.5"
  }
 },
 "nbformat": 4,
 "nbformat_minor": 5
}
